{
  "cells": [
    {
      "cell_type": "markdown",
      "metadata": {},
      "source": [
        "- Installazione dipendenze"
      ]
    },
    {
      "cell_type": "code",
      "execution_count": null,
      "metadata": {
        "id": "OZr-S_NusTIQ"
      },
      "outputs": [],
      "source": [
        "!pip install torch\n",
        "\n",
        "!pip install datasets\n",
        "!pip install tokenizers\n",
        "!pip install transformers\n",
        "\n",
        "!pip install seqeval"
      ]
    },
    {
      "cell_type": "code",
      "execution_count": 3,
      "metadata": {
        "id": "Ep4bswVeC5qD"
      },
      "outputs": [],
      "source": [
        "import os\n",
        "import math\n",
        "import random\n",
        "import csv\n",
        "import sys\n",
        "import datasets\n",
        "import numpy as np\n",
        "import pandas as pd\n",
        "from sklearn import metrics\n",
        "from sklearn.metrics import f1_score\n",
        "from sklearn.metrics import precision_score, recall_score, f1_score, accuracy_score, classification_report\n",
        "import statistics as stats"
      ]
    },
    {
      "cell_type": "markdown",
      "metadata": {},
      "source": [
        "- lista labels"
      ]
    },
    {
      "cell_type": "code",
      "execution_count": 4,
      "metadata": {
        "id": "vxybYKe-9T2v"
      },
      "outputs": [],
      "source": [
        "label_list=[\"O\",\"B-Task\",\"I-Task\",\"B-Method\",\"I-Method\",\"B-Metric\",\"I-Metric\",\"B-Material\",\"I-Material\",\"B-OtherScientificTerm\",\"I-OtherScientificTerm\",\"B-Generic\",\"I-Generic\"]\n",
        "\n",
        "\n",
        "label_map = {label: i for i, label in enumerate(label_list)}"
      ]
    },
    {
      "cell_type": "markdown",
      "metadata": {},
      "source": [
        "- Caricamento predictions"
      ]
    },
    {
      "cell_type": "code",
      "execution_count": null,
      "metadata": {
        "colab": {
          "base_uri": "https://localhost:8080/",
          "height": 49,
          "referenced_widgets": [
            "f11b0bbd7e7f47d6955dd8fb01caf127",
            "98f00da81ff64838b839f1246fecf5ea",
            "5751d55fb6504ac9b49198ea0d2fef31",
            "38f29142886943f4b7c45a70d3ae0aad",
            "a617dc56f1204f1587acdccf173051e6",
            "36912fc5e60840f79310720d1a29038d",
            "ba0914d7942249e585d3057fb0dc71be",
            "37b1bcad07dc41e38270adfc22a67d70",
            "a42669bc91c64087b27cde52fd82f618",
            "5a6713e24fdc41118bec28c0a41a8fa5",
            "b26b439f40b54d679ba4f140727b31a1"
          ]
        },
        "id": "PRpNyWv5C9rC",
        "outputId": "d37fe5ab-b594-40bc-cd2a-1a56f6443f3b"
      },
      "outputs": [],
      "source": [
        "file_risultati=\"/content/drive/MyDrive/Tesi/dataset_nuovi/Model/result/result_predictions_without_inc.json\"\n",
        "y_pred_2 = datasets.load_dataset('json', data_files=file_risultati, split='train')"
      ]
    },
    {
      "cell_type": "markdown",
      "metadata": {},
      "source": [
        "- caricamento dataset tokenizzati (ground truth)"
      ]
    },
    {
      "cell_type": "code",
      "execution_count": 6,
      "metadata": {
        "id": "tgBBXX6z7_N9"
      },
      "outputs": [],
      "source": [
        "tokenized_datasets=datasets.load_from_disk(\"/content/drive/MyDrive/Tesi/dataset_nuovi/Model/dataset_tokenizzati\")"
      ]
    },
    {
      "cell_type": "markdown",
      "metadata": {},
      "source": [
        "- Inizializzazione strutture dati per la valutazione"
      ]
    },
    {
      "cell_type": "code",
      "execution_count": 50,
      "metadata": {
        "id": "QZRJkY1GDJ-M"
      },
      "outputs": [],
      "source": [
        "y_gt=[]\n",
        "y_gt_WORDS=[]\n",
        "\n",
        "\n",
        "for i in tokenized_datasets[\"test\"][\"labels\"] :\n",
        "    i=[x for x in i if x!=-100]\n",
        "    #print(i)\n",
        "    y_gt.extend(i)\n",
        "    y_gt_WORDS.extend([ label_list[x] for x in i ])\n",
        "\n",
        "y_pred=[]\n",
        "y_pred_WORDS=[]\n",
        "\n",
        "for i in y_pred_2['predictions_id'][0] :\n",
        "  y_pred.extend(i)\n",
        "  y_pred_WORDS.extend([ label_list[x] for x in i ])"
      ]
    },
    {
      "cell_type": "markdown",
      "metadata": {},
      "source": [
        "- token by token"
      ]
    },
    {
      "cell_type": "code",
      "execution_count": null,
      "metadata": {
        "colab": {
          "base_uri": "https://localhost:8080/"
        },
        "id": "6hTLbdV6DQxi",
        "outputId": "1e8fa029-08b7-4e6b-83b4-f9a2ef34ab29"
      },
      "outputs": [],
      "source": [
        "accuracy = accuracy_score(y_gt_WORDS, y_pred_WORDS)\n",
        "precision = precision_score(y_gt_WORDS, y_pred_WORDS, average='macro')\n",
        "recall = recall_score(y_gt_WORDS, y_pred_WORDS, average='macro')\n",
        "f1 = f1_score(y_gt_WORDS, y_pred_WORDS, average='macro')\n",
        "\n",
        "print(\"Accuracy: \", accuracy)\n",
        "print(\"Precision macro: \", precision)\n",
        "print(\"Recall macro: \", recall)\n",
        "print(\"F1 macro: \", f1)\n",
        "print(classification_report(y_gt_WORDS,y_pred_WORDS,labels=label_list))\n"
      ]
    },
    {
      "cell_type": "markdown",
      "metadata": {
        "id": "X4Q8lbvIF6Z_"
      },
      "source": [
        "\n",
        "- SPAN"
      ]
    },
    {
      "cell_type": "markdown",
      "metadata": {
        "id": "601kuIjoSydN"
      },
      "source": [
        "- Funzione che prende la predizione di una frase, ne estrae gli span e li salva in un dizionario in cui le chiavi sono le label e i valori i relativi span"
      ]
    },
    {
      "cell_type": "code",
      "execution_count": 7,
      "metadata": {
        "id": "Ysx1gTHMEUgb"
      },
      "outputs": [],
      "source": [
        "def extract_span (lista_labels):\n",
        "\n",
        "\n",
        "  \n",
        "\n",
        "  B_types=[\"B-Task\",\"B-Method\",\"B-Metric\",\"B-Material\",\"B-OtherScientificTerm\",\"B-Generic\",\"O\"]\n",
        "\n",
        "  dict_span={}\n",
        "\n",
        "\n",
        "  for t in B_types:\n",
        "\n",
        "\n",
        "\n",
        "    end=-1\n",
        "    if(t!=\"O\"):\n",
        "      occorrenze=[i for i,val in enumerate(lista_labels) if val[2:]==t[2:]]\n",
        "      dict_span[t[2:]]=[]\n",
        "      for x in occorrenze :\n",
        "        start=x\n",
        "\n",
        "        if((start+1 <= len(lista_labels)-1) and (start>end )):\n",
        "          end=start\n",
        "          while (lista_labels[end+1][2:]==t[2:]):\n",
        "            end=end+1\n",
        "\n",
        "            if (end+1 >= len(lista_labels)-1):\n",
        "              break\n",
        "\n",
        "          dict_span[t[2:]].append((start,end))\n",
        "        else:\n",
        "          ends=[y for x,y in dict_span[t[2:]]]\n",
        "          if(ends==[]):\n",
        "            dict_span[t[2:]].append((start,start))\n",
        "\n",
        "          elif(start > ends[-1]):\n",
        "            dict_span[t[2:]].append((start,start))\n",
        "    else:\n",
        "      occorrenze=[i for i,val in enumerate(lista_labels) if val==t]\n",
        "      dict_span[t]=[]\n",
        "      for x in occorrenze :\n",
        "        start=x\n",
        "\n",
        "        if((start+1 < len(lista_labels)-1)and (start>end)):\n",
        "          end=start\n",
        "\n",
        "          while ((end+1 <= len(lista_labels)-1)and lista_labels[end+1]==\"O\" ):\n",
        "            end=end+1\n",
        "\n",
        "            if (end+1 >= len(lista_labels)-1):\n",
        "              break\n",
        "\n",
        "          dict_span[t].append((start,end))\n",
        "        else:\n",
        "          ends=[y for x,y in dict_span[t]]\n",
        "          if (start > ends[-1]):\n",
        "            dict_span[t].append((start,start))\n",
        "\n",
        "\n",
        "\n",
        "  return dict_span"
      ]
    },
    {
      "cell_type": "markdown",
      "metadata": {
        "id": "BzIpeA4tXgzh"
      },
      "source": [
        "- La funzione viene estesa a tutte le frasi per creare un dizionario completo di tutti gli span, sia per le predizioni che per la ground_truth"
      ]
    },
    {
      "cell_type": "code",
      "execution_count": 8,
      "metadata": {
        "id": "Y-dLhdCQE2ds"
      },
      "outputs": [],
      "source": [
        "dict_pred={}\n",
        "for i,j in enumerate(y_pred_2['predictions_id'][0]):\n",
        "  j=[label_list[x] for x in j]\n",
        "  dict_pred[i]=extract_span(j)"
      ]
    },
    {
      "cell_type": "code",
      "execution_count": null,
      "metadata": {
        "id": "SE84oUXwE4Qh"
      },
      "outputs": [],
      "source": [
        "dict_truth={}\n",
        "\n",
        "for i,j in enumerate(tokenized_datasets[\"test\"][\"labels\"]) :#label_list[x] for x\n",
        "    j=[label_list[x] for x in j if x!=-100]\n",
        "    dict_truth[i]=extract_span(j)\n"
      ]
    },
    {
      "cell_type": "markdown",
      "metadata": {
        "id": "U7_mIiMw31Jf"
      },
      "source": [
        "- Calcolo delle metriche su Span senza tipo"
      ]
    },
    {
      "cell_type": "code",
      "execution_count": null,
      "metadata": {
        "id": "y4ZHI1lw1s9h"
      },
      "outputs": [],
      "source": [
        "true_positives = 0\n",
        "false_positives = 0\n",
        "false_negatives = 0\n",
        "len_tot=0\n",
        "\n",
        "for i in range(0,551):\n",
        "  ground_truth=dict_truth[i]\n",
        "  predicted=dict_pred[i]\n",
        "  len_tot+=len(predicted.items())+len(ground_truth.items())\n",
        "\n",
        "  entity_types = set(ground_truth.keys()).union(predicted.keys())\n",
        "  gt_list = []\n",
        "  prediction_list = []\n",
        "  merged_list = []\n",
        "\n",
        "  for entity_type in entity_types:\n",
        "    if(entity_type in ground_truth.keys()):\n",
        "      for element in ground_truth[entity_type]:\n",
        "        gt_list.append(element)\n",
        "        if(element not in merged_list):\n",
        "          merged_list.append(element)\n",
        "    if(entity_type in predicted.keys()):\n",
        "      for element in predicted[entity_type]:\n",
        "        prediction_list.append(element)\n",
        "        if(element not in merged_list):\n",
        "          merged_list.append(element)\n",
        "\n",
        "  for element in merged_list:\n",
        "      if(element in gt_list and element in prediction_list):\n",
        "        true_positives += 1\n",
        "\n",
        "      if(element not in gt_list and element in prediction_list):\n",
        "        false_positives += 1\n",
        "\n",
        "      if(element in gt_list and element not in prediction_list):\n",
        "          false_negatives += 1\n",
        "\n",
        "\n",
        "precision = true_positives / (true_positives + false_positives)\n",
        "recall = true_positives / (true_positives + false_negatives)\n",
        "f1_score = 2 * (precision * recall) / (precision + recall)\n",
        "accuracy = true_positives / (true_positives + false_positives + false_negatives)\n",
        "print(\"Precision:\", precision)\n",
        "print(\"Recall:\", recall)\n",
        "print(\"F1 Score:\", f1_score)\n",
        "print(\"Accuracy:\",accuracy)\n"
      ]
    },
    {
      "cell_type": "markdown",
      "metadata": {
        "id": "Z_fP-YxL8XFg"
      },
      "source": [
        "- Calcolo delle metriche su Span con tipo"
      ]
    },
    {
      "cell_type": "code",
      "execution_count": null,
      "metadata": {
        "id": "PHz0UY_d6M7H"
      },
      "outputs": [],
      "source": [
        "true_positives = 0\n",
        "false_positives = 0\n",
        "false_negatives = 0\n",
        "len_tot=0\n",
        "for i in range(0,551):\n",
        "  ground_truth=dict_truth[i]\n",
        "  predicted=dict_pred[i]\n",
        "  len_tot+=len(predicted.items())+len(ground_truth.items())\n",
        "  entity_types = set(ground_truth.keys()).union(predicted.keys())\n",
        "\n",
        "  for entity_type in entity_types:\n",
        "      # Get true positives\n",
        "      true_positives += sum(1 for entity in ground_truth.get(entity_type, [])\n",
        "                            if entity in predicted.get(entity_type, []))\n",
        "\n",
        "      # Get false positives\n",
        "      false_positives += sum(1 for entity in predicted.get(entity_type, [])\n",
        "                              if entity not in ground_truth.get(entity_type, []))\n",
        "\n",
        "      # Get false negatives\n",
        "      false_negatives += sum(1 for entity in ground_truth.get(entity_type, [])\n",
        "                              if entity not in predicted.get(entity_type, []))\n",
        "\n",
        "\n",
        "precision = true_positives / (true_positives + false_positives)\n",
        "recall = true_positives / (true_positives + false_negatives)\n",
        "f1_score = 2 * (precision * recall) / (precision + recall)\n",
        "accuracy = true_positives / (true_positives + false_positives + false_negatives)\n",
        "print(\"Precision:\", precision)\n",
        "print(\"Recall:\", recall)\n",
        "print(\"F1 Score:\", f1_score)\n",
        "print(\"Accuracy:\",accuracy)\n"
      ]
    },
    {
      "cell_type": "markdown",
      "metadata": {
        "id": "tVFktoq0XqlU"
      },
      "source": [
        "- Salvataggio di entrambi i dizionari"
      ]
    },
    {
      "cell_type": "code",
      "execution_count": null,
      "metadata": {
        "id": "enqRvV0zFNRv"
      },
      "outputs": [],
      "source": [
        "file_dict_span=\"/content/drive/MyDrive/Tesi/Model/result/span_dict_with_inc.json\"\n",
        "\n",
        "\n",
        "with open(file_dict_span, 'a') as f:\n",
        "    json.dump({\"predicted_dict\":dict_pred,\"ground_truth_dict\":dict_truth}, f)\n",
        "\n"
      ]
    }
  ],
  "metadata": {
    "colab": {
      "provenance": []
    },
    "kernelspec": {
      "display_name": "Python 3",
      "name": "python3"
    },
    "language_info": {
      "name": "python"
    },
    "widgets": {
      "application/vnd.jupyter.widget-state+json": {
        "36912fc5e60840f79310720d1a29038d": {
          "model_module": "@jupyter-widgets/base",
          "model_module_version": "1.2.0",
          "model_name": "LayoutModel",
          "state": {
            "_model_module": "@jupyter-widgets/base",
            "_model_module_version": "1.2.0",
            "_model_name": "LayoutModel",
            "_view_count": null,
            "_view_module": "@jupyter-widgets/base",
            "_view_module_version": "1.2.0",
            "_view_name": "LayoutView",
            "align_content": null,
            "align_items": null,
            "align_self": null,
            "border": null,
            "bottom": null,
            "display": null,
            "flex": null,
            "flex_flow": null,
            "grid_area": null,
            "grid_auto_columns": null,
            "grid_auto_flow": null,
            "grid_auto_rows": null,
            "grid_column": null,
            "grid_gap": null,
            "grid_row": null,
            "grid_template_areas": null,
            "grid_template_columns": null,
            "grid_template_rows": null,
            "height": null,
            "justify_content": null,
            "justify_items": null,
            "left": null,
            "margin": null,
            "max_height": null,
            "max_width": null,
            "min_height": null,
            "min_width": null,
            "object_fit": null,
            "object_position": null,
            "order": null,
            "overflow": null,
            "overflow_x": null,
            "overflow_y": null,
            "padding": null,
            "right": null,
            "top": null,
            "visibility": null,
            "width": null
          }
        },
        "37b1bcad07dc41e38270adfc22a67d70": {
          "model_module": "@jupyter-widgets/base",
          "model_module_version": "1.2.0",
          "model_name": "LayoutModel",
          "state": {
            "_model_module": "@jupyter-widgets/base",
            "_model_module_version": "1.2.0",
            "_model_name": "LayoutModel",
            "_view_count": null,
            "_view_module": "@jupyter-widgets/base",
            "_view_module_version": "1.2.0",
            "_view_name": "LayoutView",
            "align_content": null,
            "align_items": null,
            "align_self": null,
            "border": null,
            "bottom": null,
            "display": null,
            "flex": null,
            "flex_flow": null,
            "grid_area": null,
            "grid_auto_columns": null,
            "grid_auto_flow": null,
            "grid_auto_rows": null,
            "grid_column": null,
            "grid_gap": null,
            "grid_row": null,
            "grid_template_areas": null,
            "grid_template_columns": null,
            "grid_template_rows": null,
            "height": null,
            "justify_content": null,
            "justify_items": null,
            "left": null,
            "margin": null,
            "max_height": null,
            "max_width": null,
            "min_height": null,
            "min_width": null,
            "object_fit": null,
            "object_position": null,
            "order": null,
            "overflow": null,
            "overflow_x": null,
            "overflow_y": null,
            "padding": null,
            "right": null,
            "top": null,
            "visibility": null,
            "width": "20px"
          }
        },
        "38f29142886943f4b7c45a70d3ae0aad": {
          "model_module": "@jupyter-widgets/controls",
          "model_module_version": "1.5.0",
          "model_name": "HTMLModel",
          "state": {
            "_dom_classes": [],
            "_model_module": "@jupyter-widgets/controls",
            "_model_module_version": "1.5.0",
            "_model_name": "HTMLModel",
            "_view_count": null,
            "_view_module": "@jupyter-widgets/controls",
            "_view_module_version": "1.5.0",
            "_view_name": "HTMLView",
            "description": "",
            "description_tooltip": null,
            "layout": "IPY_MODEL_5a6713e24fdc41118bec28c0a41a8fa5",
            "placeholder": "​",
            "style": "IPY_MODEL_b26b439f40b54d679ba4f140727b31a1",
            "value": " 1/0 [00:00&lt;00:00,  8.01 examples/s]"
          }
        },
        "5751d55fb6504ac9b49198ea0d2fef31": {
          "model_module": "@jupyter-widgets/controls",
          "model_module_version": "1.5.0",
          "model_name": "FloatProgressModel",
          "state": {
            "_dom_classes": [],
            "_model_module": "@jupyter-widgets/controls",
            "_model_module_version": "1.5.0",
            "_model_name": "FloatProgressModel",
            "_view_count": null,
            "_view_module": "@jupyter-widgets/controls",
            "_view_module_version": "1.5.0",
            "_view_name": "ProgressView",
            "bar_style": "success",
            "description": "",
            "description_tooltip": null,
            "layout": "IPY_MODEL_37b1bcad07dc41e38270adfc22a67d70",
            "max": 1,
            "min": 0,
            "orientation": "horizontal",
            "style": "IPY_MODEL_a42669bc91c64087b27cde52fd82f618",
            "value": 1
          }
        },
        "5a6713e24fdc41118bec28c0a41a8fa5": {
          "model_module": "@jupyter-widgets/base",
          "model_module_version": "1.2.0",
          "model_name": "LayoutModel",
          "state": {
            "_model_module": "@jupyter-widgets/base",
            "_model_module_version": "1.2.0",
            "_model_name": "LayoutModel",
            "_view_count": null,
            "_view_module": "@jupyter-widgets/base",
            "_view_module_version": "1.2.0",
            "_view_name": "LayoutView",
            "align_content": null,
            "align_items": null,
            "align_self": null,
            "border": null,
            "bottom": null,
            "display": null,
            "flex": null,
            "flex_flow": null,
            "grid_area": null,
            "grid_auto_columns": null,
            "grid_auto_flow": null,
            "grid_auto_rows": null,
            "grid_column": null,
            "grid_gap": null,
            "grid_row": null,
            "grid_template_areas": null,
            "grid_template_columns": null,
            "grid_template_rows": null,
            "height": null,
            "justify_content": null,
            "justify_items": null,
            "left": null,
            "margin": null,
            "max_height": null,
            "max_width": null,
            "min_height": null,
            "min_width": null,
            "object_fit": null,
            "object_position": null,
            "order": null,
            "overflow": null,
            "overflow_x": null,
            "overflow_y": null,
            "padding": null,
            "right": null,
            "top": null,
            "visibility": null,
            "width": null
          }
        },
        "98f00da81ff64838b839f1246fecf5ea": {
          "model_module": "@jupyter-widgets/controls",
          "model_module_version": "1.5.0",
          "model_name": "HTMLModel",
          "state": {
            "_dom_classes": [],
            "_model_module": "@jupyter-widgets/controls",
            "_model_module_version": "1.5.0",
            "_model_name": "HTMLModel",
            "_view_count": null,
            "_view_module": "@jupyter-widgets/controls",
            "_view_module_version": "1.5.0",
            "_view_name": "HTMLView",
            "description": "",
            "description_tooltip": null,
            "layout": "IPY_MODEL_36912fc5e60840f79310720d1a29038d",
            "placeholder": "​",
            "style": "IPY_MODEL_ba0914d7942249e585d3057fb0dc71be",
            "value": "Generating train split: "
          }
        },
        "a42669bc91c64087b27cde52fd82f618": {
          "model_module": "@jupyter-widgets/controls",
          "model_module_version": "1.5.0",
          "model_name": "ProgressStyleModel",
          "state": {
            "_model_module": "@jupyter-widgets/controls",
            "_model_module_version": "1.5.0",
            "_model_name": "ProgressStyleModel",
            "_view_count": null,
            "_view_module": "@jupyter-widgets/base",
            "_view_module_version": "1.2.0",
            "_view_name": "StyleView",
            "bar_color": null,
            "description_width": ""
          }
        },
        "a617dc56f1204f1587acdccf173051e6": {
          "model_module": "@jupyter-widgets/base",
          "model_module_version": "1.2.0",
          "model_name": "LayoutModel",
          "state": {
            "_model_module": "@jupyter-widgets/base",
            "_model_module_version": "1.2.0",
            "_model_name": "LayoutModel",
            "_view_count": null,
            "_view_module": "@jupyter-widgets/base",
            "_view_module_version": "1.2.0",
            "_view_name": "LayoutView",
            "align_content": null,
            "align_items": null,
            "align_self": null,
            "border": null,
            "bottom": null,
            "display": null,
            "flex": null,
            "flex_flow": null,
            "grid_area": null,
            "grid_auto_columns": null,
            "grid_auto_flow": null,
            "grid_auto_rows": null,
            "grid_column": null,
            "grid_gap": null,
            "grid_row": null,
            "grid_template_areas": null,
            "grid_template_columns": null,
            "grid_template_rows": null,
            "height": null,
            "justify_content": null,
            "justify_items": null,
            "left": null,
            "margin": null,
            "max_height": null,
            "max_width": null,
            "min_height": null,
            "min_width": null,
            "object_fit": null,
            "object_position": null,
            "order": null,
            "overflow": null,
            "overflow_x": null,
            "overflow_y": null,
            "padding": null,
            "right": null,
            "top": null,
            "visibility": null,
            "width": null
          }
        },
        "b26b439f40b54d679ba4f140727b31a1": {
          "model_module": "@jupyter-widgets/controls",
          "model_module_version": "1.5.0",
          "model_name": "DescriptionStyleModel",
          "state": {
            "_model_module": "@jupyter-widgets/controls",
            "_model_module_version": "1.5.0",
            "_model_name": "DescriptionStyleModel",
            "_view_count": null,
            "_view_module": "@jupyter-widgets/base",
            "_view_module_version": "1.2.0",
            "_view_name": "StyleView",
            "description_width": ""
          }
        },
        "ba0914d7942249e585d3057fb0dc71be": {
          "model_module": "@jupyter-widgets/controls",
          "model_module_version": "1.5.0",
          "model_name": "DescriptionStyleModel",
          "state": {
            "_model_module": "@jupyter-widgets/controls",
            "_model_module_version": "1.5.0",
            "_model_name": "DescriptionStyleModel",
            "_view_count": null,
            "_view_module": "@jupyter-widgets/base",
            "_view_module_version": "1.2.0",
            "_view_name": "StyleView",
            "description_width": ""
          }
        },
        "f11b0bbd7e7f47d6955dd8fb01caf127": {
          "model_module": "@jupyter-widgets/controls",
          "model_module_version": "1.5.0",
          "model_name": "HBoxModel",
          "state": {
            "_dom_classes": [],
            "_model_module": "@jupyter-widgets/controls",
            "_model_module_version": "1.5.0",
            "_model_name": "HBoxModel",
            "_view_count": null,
            "_view_module": "@jupyter-widgets/controls",
            "_view_module_version": "1.5.0",
            "_view_name": "HBoxView",
            "box_style": "",
            "children": [
              "IPY_MODEL_98f00da81ff64838b839f1246fecf5ea",
              "IPY_MODEL_5751d55fb6504ac9b49198ea0d2fef31",
              "IPY_MODEL_38f29142886943f4b7c45a70d3ae0aad"
            ],
            "layout": "IPY_MODEL_a617dc56f1204f1587acdccf173051e6"
          }
        }
      }
    }
  },
  "nbformat": 4,
  "nbformat_minor": 0
}
